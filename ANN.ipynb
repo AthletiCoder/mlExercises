{
 "cells": [
  {
   "cell_type": "markdown",
   "metadata": {},
   "source": [
    "## Simple Neural Networks"
   ]
  },
  {
   "cell_type": "code",
   "execution_count": 103,
   "metadata": {},
   "outputs": [],
   "source": [
    "import numpy as np\n",
    "def sigmoid(x):\n",
    "    return (1/(1+np.exp(-x)))\n",
    "\n",
    "def tanh(x):\n",
    "    return (np.exp(x)-np.exp(-x))/(np.exp(x)+np.exp(-x))"
   ]
  },
  {
   "cell_type": "code",
   "execution_count": 104,
   "metadata": {},
   "outputs": [],
   "source": [
    "def sigmoid_dash(x):\n",
    "    return sigmoid(x) * (1 - sigmoid(x))\n",
    "\n",
    "def tanh_dash(x):\n",
    "    return 1-np.tanh(x)*np.tanh(x)"
   ]
  },
  {
   "cell_type": "markdown",
   "metadata": {},
   "source": [
    "#### Weights initialisation"
   ]
  },
  {
   "cell_type": "code",
   "execution_count": 105,
   "metadata": {},
   "outputs": [],
   "source": [
    "Wih = np.random.rand(3,3)-0.5\n",
    "Who = np.random.rand(3)-0.5\n",
    "\n",
    "inputs = np.array([[1,-1,1],[1,1,-1],[1,-1,-1],[1,1,1]])\n",
    "targets = np.array([1,1,-1,-1])"
   ]
  },
  {
   "cell_type": "markdown",
   "metadata": {},
   "source": [
    "#### Forward pass"
   ]
  },
  {
   "cell_type": "code",
   "execution_count": 106,
   "metadata": {},
   "outputs": [
    {
     "data": {
      "text/plain": [
       "array([-0.03730727,  0.00485684, -0.06625581,  0.03661256])"
      ]
     },
     "execution_count": 106,
     "metadata": {},
     "output_type": "execute_result"
    }
   ],
   "source": [
    "def forward_pass(inputs, Wih, Who):\n",
    "    h = Wih @ inputs.T\n",
    "    v = sigmoid(h)\n",
    "    y = -1+2*sigmoid(Who.T @ v)\n",
    "    return y, v\n",
    "\n",
    "y, _ = forward_pass(inputs,Wih,Who)"
   ]
  },
  {
   "cell_type": "markdown",
   "metadata": {},
   "source": [
    "#### Gradient descent step"
   ]
  },
  {
   "cell_type": "code",
   "execution_count": 107,
   "metadata": {},
   "outputs": [],
   "source": [
    "def gradient_descent_step(Wih,Who,inputs,targets,learning_rate=0.01):\n",
    "    y,v = forward_pass(inputs,Wih,Who)\n",
    "    for i in range(len(inputs)):\n",
    "        Who -= -learning_rate*4*(targets[i] - y[i])*sigmoid_dash(y[i])*v.T[i]\n",
    "        Wih -= -learning_rate*4*(targets[i] - y[i])*Who*(sigmoid_dash(y[i])*sigmoid_dash(v.T[i]))@inputs[i]\n",
    "    return Wih, Who\n",
    "\n",
    "def train(Who, Wih, inputs, targets, n_iter):\n",
    "    for i in range(n_iter):\n",
    "        Wih, Who = gradient_descent_step(Wih,Who,inputs,targets)"
   ]
  },
  {
   "cell_type": "code",
   "execution_count": 108,
   "metadata": {},
   "outputs": [],
   "source": [
    "for i in range(len(inputs)):\n",
    "    train(Who, Wih, inputs,targets,n_iter=600)"
   ]
  },
  {
   "cell_type": "code",
   "execution_count": 109,
   "metadata": {},
   "outputs": [
    {
     "name": "stdout",
     "output_type": "stream",
     "text": [
      "-0.007032043921829434\n",
      "0.009519248743416364\n",
      "-0.030042559770811494\n",
      "0.028500112257064725\n"
     ]
    }
   ],
   "source": [
    "for i in range(len(inputs)):\n",
    "    y, _ = forward_pass(inputs[i],Wih,Who)\n",
    "    print(y)"
   ]
  },
  {
   "cell_type": "code",
   "execution_count": 110,
   "metadata": {},
   "outputs": [
    {
     "data": {
      "text/plain": [
       "array([ 1,  1, -1])"
      ]
     },
     "execution_count": 110,
     "metadata": {},
     "output_type": "execute_result"
    }
   ],
   "source": []
  },
  {
   "cell_type": "code",
   "execution_count": null,
   "metadata": {},
   "outputs": [],
   "source": []
  }
 ],
 "metadata": {
  "kernelspec": {
   "display_name": "Python 3",
   "language": "python",
   "name": "python3"
  },
  "language_info": {
   "codemirror_mode": {
    "name": "ipython",
    "version": 3
   },
   "file_extension": ".py",
   "mimetype": "text/x-python",
   "name": "python",
   "nbconvert_exporter": "python",
   "pygments_lexer": "ipython3",
   "version": "3.6.7"
  }
 },
 "nbformat": 4,
 "nbformat_minor": 2
}
