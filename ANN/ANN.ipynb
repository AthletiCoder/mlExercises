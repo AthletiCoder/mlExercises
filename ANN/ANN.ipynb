{
 "cells": [
  {
   "cell_type": "markdown",
   "metadata": {},
   "source": [
    "## Simple Neural Networks"
   ]
  },
  {
   "cell_type": "code",
   "execution_count": 37,
   "metadata": {},
   "outputs": [],
   "source": [
    "import numpy as np\n",
    "import matplotlib.pyplot as plt\n",
    "%matplotlib inline  \n",
    "def sigmoid(x):\n",
    "    return (1/(1+np.exp(-x)))"
   ]
  },
  {
   "cell_type": "code",
   "execution_count": 38,
   "metadata": {},
   "outputs": [],
   "source": [
    "def sigmoid_dash(x):\n",
    "    return sigmoid(x) * (1 - sigmoid(x))\n",
    "\n",
    "def tanh_dash(x):\n",
    "    return 1-np.tanh(x)**2"
   ]
  },
  {
   "cell_type": "markdown",
   "metadata": {},
   "source": [
    "#### Random initialisation of weights"
   ]
  },
  {
   "cell_type": "code",
   "execution_count": 43,
   "metadata": {},
   "outputs": [],
   "source": [
    "def rand_init():\n",
    "    Wih = np.random.rand(2,2)-0.5\n",
    "    bih = np.random.rand(2)-0.5\n",
    "    Who = np.random.rand(2)-0.5\n",
    "    bho = np.random.rand(1)-0.5\n",
    "    return Wih, Who, bih, bho\n",
    "\n",
    "inputs = np.array([[1,-1,1],[1,1,-1],[1,-1,-1],[1,1,1]]).T\n",
    "targets = np.array([1,1,-1,-1])\n",
    "\n",
    "inputs2 = np.array([[-1,1],[1,-1],[-1,-1],[1,1]]).T\n",
    "targets2 = np.array([1,1,-1,-1])"
   ]
  },
  {
   "cell_type": "markdown",
   "metadata": {},
   "source": [
    "#### Forward pass"
   ]
  },
  {
   "cell_type": "code",
   "execution_count": 53,
   "metadata": {},
   "outputs": [],
   "source": [
    "def forward_pass(inputs, Wih, Who, bih, bho):\n",
    "    h = Wih.T@inputs + bih\n",
    "    v = np.tanh(h)\n",
    "    y = np.tanh(Who.T.dot(v)+bho)\n",
    "    return y,v"
   ]
  },
  {
   "cell_type": "markdown",
   "metadata": {},
   "source": [
    "#### Gradient descent step"
   ]
  },
  {
   "cell_type": "code",
   "execution_count": 67,
   "metadata": {},
   "outputs": [],
   "source": [
    "def gradient_descent_step(Wih,Who,bih,bho,inputs,targets,y,v,learning_rate=0.01):\n",
    "    Who -= -learning_rate*2*(targets - y)*tanh_dash(y)*v\n",
    "    bho -= -learning_rate*2*(targets - y)*tanh_dash(y)\n",
    "    delta1 = -learning_rate*2*(targets - y)*Who*(tanh_dash(y)*tanh_dash(v.T))\n",
    "    delta2 = np.reshape(delta1,(2,1)).dot(np.reshape(inputs.T,(1,2)))\n",
    "    Wih -= delta2\n",
    "    bih -= delta1\n",
    "    return Wih, Who, bih, bho\n",
    "\n",
    "def train(Who,Wih,bih,bho,inputs,targets,n_iter,rate):\n",
    "    errors = []\n",
    "    for i in range(n_iter):\n",
    "        y,v = forward_pass(inputs,Wih,Who,bih,bho)\n",
    "        Wih, Who, bih, bho = gradient_descent_step(Wih,Who,bih,bho,inputs,targets,y,v,learning_rate=rate)\n",
    "        if (i%100 == 0):\n",
    "            errors.append(sum(abs(y-targets)))\n",
    "    iters = np.arange(len(errors))"
   ]
  },
  {
   "cell_type": "markdown",
   "metadata": {},
   "source": [
    "#### Plot learning curves"
   ]
  },
  {
   "cell_type": "code",
   "execution_count": 74,
   "metadata": {},
   "outputs": [],
   "source": [
    "rates = [1]\n",
    "for rate in rates:\n",
    "    Wih, Who, bih, bho = rand_init()\n",
    "    for _ in range(10000):\n",
    "        for i in range(4):\n",
    "            train(Who,Wih,bih,bho,inputs2.T[i],targets2[i],n_iter=1,rate=rate)"
   ]
  },
  {
   "cell_type": "markdown",
   "metadata": {},
   "source": [
    "#### Predict the final outputs"
   ]
  },
  {
   "cell_type": "code",
   "execution_count": null,
   "metadata": {},
   "outputs": [],
   "source": []
  },
  {
   "cell_type": "code",
   "execution_count": 75,
   "metadata": {},
   "outputs": [
    {
     "name": "stdout",
     "output_type": "stream",
     "text": [
      "[0.99991303]\n",
      "[0.99991304]\n",
      "[-0.99995652]\n",
      "[-0.99995652]\n"
     ]
    }
   ],
   "source": [
    "for i in range(len(inputs2.T)):\n",
    "    y, v = forward_pass(inputs2.T[i],Wih,Who,bih,bho)\n",
    "    print(y)"
   ]
  },
  {
   "cell_type": "code",
   "execution_count": 29,
   "metadata": {},
   "outputs": [
    {
     "data": {
      "text/plain": [
       "array([-1,  1])"
      ]
     },
     "execution_count": 29,
     "metadata": {},
     "output_type": "execute_result"
    }
   ],
   "source": []
  },
  {
   "cell_type": "code",
   "execution_count": null,
   "metadata": {},
   "outputs": [],
   "source": []
  }
 ],
 "metadata": {
  "kernelspec": {
   "display_name": "Python 3",
   "language": "python",
   "name": "python3"
  },
  "language_info": {
   "codemirror_mode": {
    "name": "ipython",
    "version": 3
   },
   "file_extension": ".py",
   "mimetype": "text/x-python",
   "name": "python",
   "nbconvert_exporter": "python",
   "pygments_lexer": "ipython3",
   "version": "3.6.7"
  }
 },
 "nbformat": 4,
 "nbformat_minor": 2
}
