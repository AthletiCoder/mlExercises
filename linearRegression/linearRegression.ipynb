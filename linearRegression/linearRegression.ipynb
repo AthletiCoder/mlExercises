{
 "cells": [
  {
   "cell_type": "markdown",
   "metadata": {},
   "source": [
    "# Linear Regression\n",
    "### Import libraries"
   ]
  },
  {
   "cell_type": "code",
   "execution_count": 36,
   "metadata": {},
   "outputs": [],
   "source": [
    "import numpy as np\n",
    "import matplotlib.pyplot as plt\n",
    "import csv\n",
    "from numpy.linalg import inv\n",
    "%matplotlib inline  "
   ]
  },
  {
   "cell_type": "markdown",
   "metadata": {},
   "source": [
    "### Read data from csv file"
   ]
  },
  {
   "cell_type": "code",
   "execution_count": 37,
   "metadata": {},
   "outputs": [],
   "source": [
    "def read_data(file_name):\n",
    "    with open(file_name,'r') as train_file:\n",
    "        data = csv.reader(train_file, delimiter=',')\n",
    "        line_count = 0\n",
    "        x = []\n",
    "        y = []\n",
    "        for row in data:\n",
    "            if line_count == 0:\n",
    "                line_count += 1\n",
    "            else:\n",
    "                if(len(row)==2):\n",
    "                    y.append(row[1])\n",
    "                    x.append(row[0])\n",
    "                line_count += 1\n",
    "    return x, y"
   ]
  },
  {
   "cell_type": "markdown",
   "metadata": {},
   "source": [
    "### Other helper functions"
   ]
  },
  {
   "cell_type": "code",
   "execution_count": 38,
   "metadata": {},
   "outputs": [],
   "source": [
    "def append_ones(arr):\n",
    "    return np.c_[np.ones([len(arr),1]), arr] \n",
    "\n",
    "def get_weights(train_x,train_y):\n",
    "    train_x = append_ones(train_x)\n",
    "    return np.dot(np.dot(inv(np.dot(train_x.T,train_x)),train_x.T),train_y) \n",
    "\n",
    "def get_outputs(inputs,weights):\n",
    "    inputs = append_ones(inputs)\n",
    "    return np.dot(weights,inputs.T).T\n",
    "\n",
    "def accuracy(weights,inputs,targets,thresh = 3):\n",
    "    errors = 0\n",
    "    for i in range(len(train_x)):\n",
    "        if abs(predictions[i]-train_y[i])> thresh:\n",
    "            errors += 1\n",
    "    return 100-errors/len(train_x)*100"
   ]
  },
  {
   "cell_type": "markdown",
   "metadata": {},
   "source": [
    "### Get train data, train the model and check train accuracy"
   ]
  },
  {
   "cell_type": "code",
   "execution_count": 39,
   "metadata": {},
   "outputs": [
    {
     "name": "stdout",
     "output_type": "stream",
     "text": [
      "70.9585121602289\n"
     ]
    }
   ],
   "source": [
    "train_x, train_y = read_data('train.csv')\n",
    "train_x = np.array(train_x,dtype=float)\n",
    "train_y = np.array(train_y,dtype=float)\n",
    "\n",
    "w = get_weights(train_x,train_y)\n",
    "predictions = get_outputs(train_x,w)\n",
    "\n",
    "print(accuracy(w,train_x,train_y))"
   ]
  },
  {
   "cell_type": "markdown",
   "metadata": {},
   "source": [
    "### Get test data and check test accuracy"
   ]
  },
  {
   "cell_type": "code",
   "execution_count": 40,
   "metadata": {},
   "outputs": [
    {
     "name": "stdout",
     "output_type": "stream",
     "text": [
      "70.9585121602289\n"
     ]
    }
   ],
   "source": [
    "test_x, test_y = read_data('test.csv')\n",
    "test_x = append_ones(test_x)\n",
    "print(accuracy(w,test_x,test_y))"
   ]
  }
 ],
 "metadata": {
  "kernelspec": {
   "display_name": "Python 3",
   "language": "python",
   "name": "python3"
  },
  "language_info": {
   "codemirror_mode": {
    "name": "ipython",
    "version": 3
   },
   "file_extension": ".py",
   "mimetype": "text/x-python",
   "name": "python",
   "nbconvert_exporter": "python",
   "pygments_lexer": "ipython3",
   "version": "3.6.7"
  }
 },
 "nbformat": 4,
 "nbformat_minor": 2
}
