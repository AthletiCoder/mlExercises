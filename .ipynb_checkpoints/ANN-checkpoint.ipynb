{
 "cells": [
  {
   "cell_type": "markdown",
   "metadata": {},
   "source": [
    "## Simple Neural Networks"
   ]
  },
  {
   "cell_type": "code",
   "execution_count": 186,
   "metadata": {},
   "outputs": [],
   "source": [
    "import numpy as np\n",
    "import matplotlib.pyplot as plt\n",
    "%matplotlib inline  \n",
    "def sigmoid(x):\n",
    "    return (1/(1+np.exp(-x)))"
   ]
  },
  {
   "cell_type": "code",
   "execution_count": 187,
   "metadata": {},
   "outputs": [],
   "source": [
    "def sigmoid_dash(x):\n",
    "    return sigmoid(x) * (1 - sigmoid(x))\n",
    "\n",
    "def tanh_dash(x):\n",
    "    return 1-np.tanh(x)**2"
   ]
  },
  {
   "cell_type": "markdown",
   "metadata": {},
   "source": [
    "#### Random initialisation of weights"
   ]
  },
  {
   "cell_type": "code",
   "execution_count": 188,
   "metadata": {},
   "outputs": [],
   "source": [
    "def rand_init():\n",
    "    Wih = np.random.rand(3,2)-0.5\n",
    "    Who = np.random.rand(3)-0.5\n",
    "    return Wih, Who\n",
    "\n",
    "inputs = np.array([[1,-1,1],[1,1,-1],[1,-1,-1],[1,1,1]]).T\n",
    "targets = np.array([1,1,-1,-1])\n",
    "\n",
    "inputs2 = np.array([[1,0,1],[1,1,0],[1,0,0],[1,1,1]]).T\n",
    "targets2 = np.array([1,1,0,0])"
   ]
  },
  {
   "cell_type": "markdown",
   "metadata": {},
   "source": [
    "#### Forward pass"
   ]
  },
  {
   "cell_type": "code",
   "execution_count": 189,
   "metadata": {},
   "outputs": [],
   "source": [
    "def forward_pass(inputs, Wih, Who):\n",
    "    h = Wih.T @ inputs\n",
    "    v = np.tanh(h)\n",
    "    y = np.tanh(Who.T @ v)\n",
    "    return y, v"
   ]
  },
  {
   "cell_type": "markdown",
   "metadata": {},
   "source": [
    "#### Gradient descent step"
   ]
  },
  {
   "cell_type": "code",
   "execution_count": 190,
   "metadata": {},
   "outputs": [],
   "source": [
    "def gradient_descent_step(Wih,Who,inputs,targets,y,v,learning_rate=0.01):\n",
    "    for i in range(len(inputs)):\n",
    "        Who -= -learning_rate*2*(targets[i] - y[i])*tanh_dash(y[i])*v.T[i]\n",
    "        Wih -= -learning_rate*2*(targets[i] - y[i])*Who*(tanh_dash(y[i])*tanh_dash(v.T[i]))@inputs.T[i]\n",
    "    return Wih, Who\n",
    "\n",
    "def train(Who, Wih, inputs, targets, n_iter,rate):\n",
    "    errors = []\n",
    "    for i in range(n_iter):\n",
    "        y,v = forward_pass(inputs,Wih,Who)\n",
    "        Wih, Who = gradient_descent_step(Wih,Who,inputs,targets,y,v,learning_rate=rate)\n",
    "        if (i%100 == 0):\n",
    "            errors.append(sum(abs(y-targets)))\n",
    "    iters = np.arange(len(errors))\n",
    "    plt.plot(iters,errors)"
   ]
  },
  {
   "cell_type": "markdown",
   "metadata": {},
   "source": [
    "#### Plot learning curves"
   ]
  },
  {
   "cell_type": "code",
   "execution_count": 191,
   "metadata": {},
   "outputs": [
    {
     "data": {
      "image/png": "[encoded data removed]",
      "text/plain": [
       "<Figure size 432x288 with 1 Axes>"
      ]
     },
     "metadata": {
      "needs_background": "light"
     },
     "output_type": "display_data"
    }
   ],
   "source": [
    "rates = [0.01]\n",
    "for rate in rates:\n",
    "    Wih, Who = rand_init()\n",
    "    train(Who, Wih, inputs,targets,n_iter=6000,rate=rate)"
   ]
  },
  {
   "cell_type": "markdown",
   "metadata": {},
   "source": [
    "#### Predict the final outputs"
   ]
  },
  {
   "cell_type": "code",
   "execution_count": 192,
   "metadata": {},
   "outputs": [
    {
     "name": "stdout",
     "output_type": "stream",
     "text": [
      "0.9992157763528646\n",
      "0.9986516645011577\n",
      "-0.9986765945321964\n",
      "0.9996443841448844\n"
     ]
    }
   ],
   "source": [
    "for i in range(len(inputs.T)):\n",
    "    y, _ = forward_pass(inputs.T[i],Wih,Who)\n",
    "    print(y)"
   ]
  },
  {
   "cell_type": "code",
   "execution_count": 193,
   "metadata": {},
   "outputs": [
    {
     "data": {
      "text/plain": [
       "array([[ 1,  1,  1,  1],\n",
       "       [-1,  1, -1,  1],\n",
       "       [ 1, -1, -1,  1]])"
      ]
     },
     "execution_count": 193,
     "metadata": {},
     "output_type": "execute_result"
    }
   ],
   "source": [
    "inputs"
   ]
  },
  {
   "cell_type": "code",
   "execution_count": null,
   "metadata": {},
   "outputs": [],
   "source": []
  }
 ],
 "metadata": {
  "kernelspec": {
   "display_name": "Python 3",
   "language": "python",
   "name": "python3"
  },
  "language_info": {
   "codemirror_mode": {
    "name": "ipython",
    "version": 3
   },
   "file_extension": ".py",
   "mimetype": "text/x-python",
   "name": "python",
   "nbconvert_exporter": "python",
   "pygments_lexer": "ipython3",
   "version": "3.6.7"
  }
 },
 "nbformat": 4,
 "nbformat_minor": 2
}
